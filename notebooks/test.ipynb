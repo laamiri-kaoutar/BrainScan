{
 "cells": [
  {
   "cell_type": "code",
   "execution_count": 5,
   "id": "0152465a",
   "metadata": {},
   "outputs": [
    {
     "name": "stdout",
     "output_type": "stream",
     "text": [
      "(224, 224, 3)\n",
      "(224, 224, 3)\n",
      "(224, 224, 3)\n",
      "(224, 224, 3)\n"
     ]
    }
   ],
   "source": [
    "\n",
    "import cv2\n",
    "import os\n",
    "import numpy as np\n",
    "\n",
    "test_data_path = \"../data/test_data/\" \n",
    "image_size = (224, 224) \n",
    "\n",
    "images = []\n",
    "\n",
    "\n",
    "for image_name in os.listdir(test_data_path):\n",
    "        image_path = os.path.join(test_data_path, image_name)\n",
    "\n",
    "        if not image_name.lower().endswith(('.png', '.jpg', '.jpeg', '.bmp')):\n",
    "            continue\n",
    "\n",
    "        try:\n",
    "             image = cv2.imread(image_path)\n",
    "             image = cv2.resize(image , image_size)\n",
    "             print(image.shape)\n",
    "             images.append(image)\n",
    "\n",
    "\n",
    "          \n",
    "        except Exception as exception : \n",
    "             print(f\"error in this image {image_path}: {exception}\")\n",
    "\n",
    "# Convert th\n",
    "images = np.array(images)\n",
    "\n",
    "\n",
    "# class_names = np.unique(labels)\n",
    "\n",
    "# for c_name in class_names :\n",
    "#     index = labels.index(c_name)\n",
    "#     plt.imshow(cv2.cvtColor(images[index], cv2.COLOR_BGR2RGB))  \n",
    "#     plt.title(labels[index])\n",
    "#     plt.axis('off')\n",
    "#     plt.show()"
   ]
  },
  {
   "cell_type": "code",
   "execution_count": 4,
   "id": "a59a6b7d",
   "metadata": {},
   "outputs": [
    {
     "data": {
      "text/plain": [
       "(4, 224, 224, 3)"
      ]
     },
     "execution_count": 4,
     "metadata": {},
     "output_type": "execute_result"
    }
   ],
   "source": [
    "images.shape"
   ]
  }
 ],
 "metadata": {
  "kernelspec": {
   "display_name": "Python 3",
   "language": "python",
   "name": "python3"
  },
  "language_info": {
   "codemirror_mode": {
    "name": "ipython",
    "version": 3
   },
   "file_extension": ".py",
   "mimetype": "text/x-python",
   "name": "python",
   "nbconvert_exporter": "python",
   "pygments_lexer": "ipython3",
   "version": "3.13.7"
  }
 },
 "nbformat": 4,
 "nbformat_minor": 5
}
